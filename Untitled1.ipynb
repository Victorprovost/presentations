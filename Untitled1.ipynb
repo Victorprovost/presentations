{
 "cells": [
  {
   "cell_type": "code",
   "execution_count": 1,
   "id": "14c6d13e-0956-4c4a-97ba-8f4b8c95b3f3",
   "metadata": {},
   "outputs": [
    {
     "name": "stdout",
     "output_type": "stream",
     "text": [
      "hi\n"
     ]
    }
   ],
   "source": [
    "print(\"hi\") \n"
   ]
  },
  {
   "cell_type": "markdown",
   "id": "6a740cbe-ba72-4804-b21b-fe9a238f88ba",
   "metadata": {},
   "source": [
    "this is a header\n"
   ]
  },
  {
   "cell_type": "markdown",
   "id": "43ac1e51-9f74-4c96-ac35-3203c68c9be5",
   "metadata": {},
   "source": [
    "## Demonstrate fetching data from the internet\n",
    "  "
   ]
  },
  {
   "cell_type": "code",
   "execution_count": null,
   "id": "22b70d1e-9c90-470d-a14e-0e0dd41204d2",
   "metadata": {},
   "outputs": [],
   "source": []
  }
 ],
 "metadata": {
  "kernelspec": {
   "display_name": "Python 3 (ipykernel)",
   "language": "python",
   "name": "python3"
  },
  "language_info": {
   "codemirror_mode": {
    "name": "ipython",
    "version": 3
   },
   "file_extension": ".py",
   "mimetype": "text/x-python",
   "name": "python",
   "nbconvert_exporter": "python",
   "pygments_lexer": "ipython3",
   "version": "3.11.4"
  }
 },
 "nbformat": 4,
 "nbformat_minor": 5
}
